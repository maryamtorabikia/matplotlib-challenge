{
 "cells": [
  {
   "cell_type": "markdown",
   "metadata": {},
   "source": [
    "## Observations and Insights"
   ]
  },
  {
   "cell_type": "markdown",
   "metadata": {},
   "source": [
    "##### 1. Based on the merged dataframe and Bar Plots, 10 different drugs are used for the treatments and 'Capomulin' with 230 times of usage and after that 'Ramicane' with 228 times of usage are the toppest ones and 'Propriva' is the least used drug by 161 times of usage.\n",
    "\n",
    "##### 2. In pie charts, as it is clear, the distribution of Female versus male mice are almost equal. So the sex has no effect on the treatments.\n",
    "\n",
    "##### 3. In the Boxplots based on 4 promissing drugs, there are no outliers which shows we don't need to omid any data for having the accurate calculation. The lower borders are below the min of each dataframe and the upper borders are above the max of each dataframe. Also based on the plot, Capomulin and Ramicane have better effect on tumor volume and the final volume of tumor are less in those treatments.\n",
    "\n",
    "##### 4. In the Correlation Coefficient calculaton between mouse weight and average tumor volume, the result is 0.84 so based on the Correlation Conquerors, there is STRONG stength of correlation between weight and average tumor volume. Also the slope of linear regression model is 0.94 and is so close to 1 which confirms the strong relation between those. So the mice with higher weights have higher tomur volume.\n"
   ]
  },
  {
   "cell_type": "code",
   "execution_count": 1,
   "metadata": {},
   "outputs": [],
   "source": [
    "#%matplotlib widget"
   ]
  },
  {
   "cell_type": "markdown",
   "metadata": {},
   "source": [
    "## Dependencies and starter code"
   ]
  },
  {
   "cell_type": "code",
   "execution_count": 2,
   "metadata": {},
   "outputs": [],
   "source": [
    "# Dependencies and Setup\n",
    "import matplotlib.pyplot as plt\n",
    "import pandas as pd\n",
    "import scipy.stats as st\n",
    "from scipy.stats import sem\n",
    "import numpy as np\n",
    "from scipy.stats import linregress"
   ]
  },
  {
   "cell_type": "code",
   "execution_count": 3,
   "metadata": {},
   "outputs": [],
   "source": [
    "# Study data files\n",
    "mouse_metadata = \"data/Mouse_metadata.csv\"\n",
    "study_results = \"data/Study_results.csv\"\n",
    "\n",
    "# Read the mouse data and the study results\n",
    "mouse_metadata = pd.read_csv(mouse_metadata)\n",
    "study_results = pd.read_csv(study_results)"
   ]
  },
  {
   "cell_type": "code",
   "execution_count": 4,
   "metadata": {},
   "outputs": [
    {
     "data": {
      "text/html": [
       "<div>\n",
       "<style scoped>\n",
       "    .dataframe tbody tr th:only-of-type {\n",
       "        vertical-align: middle;\n",
       "    }\n",
       "\n",
       "    .dataframe tbody tr th {\n",
       "        vertical-align: top;\n",
       "    }\n",
       "\n",
       "    .dataframe thead th {\n",
       "        text-align: right;\n",
       "    }\n",
       "</style>\n",
       "<table border=\"1\" class=\"dataframe\">\n",
       "  <thead>\n",
       "    <tr style=\"text-align: right;\">\n",
       "      <th></th>\n",
       "      <th>Mouse ID</th>\n",
       "      <th>Drug Regimen</th>\n",
       "      <th>Sex</th>\n",
       "      <th>Age_months</th>\n",
       "      <th>Weight (g)</th>\n",
       "    </tr>\n",
       "  </thead>\n",
       "  <tbody>\n",
       "    <tr>\n",
       "      <th>0</th>\n",
       "      <td>k403</td>\n",
       "      <td>Ramicane</td>\n",
       "      <td>Male</td>\n",
       "      <td>21</td>\n",
       "      <td>16</td>\n",
       "    </tr>\n",
       "    <tr>\n",
       "      <th>1</th>\n",
       "      <td>s185</td>\n",
       "      <td>Capomulin</td>\n",
       "      <td>Female</td>\n",
       "      <td>3</td>\n",
       "      <td>17</td>\n",
       "    </tr>\n",
       "    <tr>\n",
       "      <th>2</th>\n",
       "      <td>x401</td>\n",
       "      <td>Capomulin</td>\n",
       "      <td>Female</td>\n",
       "      <td>16</td>\n",
       "      <td>15</td>\n",
       "    </tr>\n",
       "    <tr>\n",
       "      <th>3</th>\n",
       "      <td>m601</td>\n",
       "      <td>Capomulin</td>\n",
       "      <td>Male</td>\n",
       "      <td>22</td>\n",
       "      <td>17</td>\n",
       "    </tr>\n",
       "    <tr>\n",
       "      <th>4</th>\n",
       "      <td>g791</td>\n",
       "      <td>Ramicane</td>\n",
       "      <td>Male</td>\n",
       "      <td>11</td>\n",
       "      <td>16</td>\n",
       "    </tr>\n",
       "  </tbody>\n",
       "</table>\n",
       "</div>"
      ],
      "text/plain": [
       "  Mouse ID Drug Regimen     Sex  Age_months  Weight (g)\n",
       "0     k403     Ramicane    Male          21          16\n",
       "1     s185    Capomulin  Female           3          17\n",
       "2     x401    Capomulin  Female          16          15\n",
       "3     m601    Capomulin    Male          22          17\n",
       "4     g791     Ramicane    Male          11          16"
      ]
     },
     "execution_count": 4,
     "metadata": {},
     "output_type": "execute_result"
    }
   ],
   "source": [
    "mouse_metadata.head()"
   ]
  },
  {
   "cell_type": "code",
   "execution_count": 5,
   "metadata": {},
   "outputs": [
    {
     "data": {
      "text/html": [
       "<div>\n",
       "<style scoped>\n",
       "    .dataframe tbody tr th:only-of-type {\n",
       "        vertical-align: middle;\n",
       "    }\n",
       "\n",
       "    .dataframe tbody tr th {\n",
       "        vertical-align: top;\n",
       "    }\n",
       "\n",
       "    .dataframe thead th {\n",
       "        text-align: right;\n",
       "    }\n",
       "</style>\n",
       "<table border=\"1\" class=\"dataframe\">\n",
       "  <thead>\n",
       "    <tr style=\"text-align: right;\">\n",
       "      <th></th>\n",
       "      <th>Mouse ID</th>\n",
       "      <th>Timepoint</th>\n",
       "      <th>Tumor Volume (mm3)</th>\n",
       "      <th>Metastatic Sites</th>\n",
       "    </tr>\n",
       "  </thead>\n",
       "  <tbody>\n",
       "    <tr>\n",
       "      <th>0</th>\n",
       "      <td>b128</td>\n",
       "      <td>0</td>\n",
       "      <td>45.0</td>\n",
       "      <td>0</td>\n",
       "    </tr>\n",
       "    <tr>\n",
       "      <th>1</th>\n",
       "      <td>f932</td>\n",
       "      <td>0</td>\n",
       "      <td>45.0</td>\n",
       "      <td>0</td>\n",
       "    </tr>\n",
       "    <tr>\n",
       "      <th>2</th>\n",
       "      <td>g107</td>\n",
       "      <td>0</td>\n",
       "      <td>45.0</td>\n",
       "      <td>0</td>\n",
       "    </tr>\n",
       "    <tr>\n",
       "      <th>3</th>\n",
       "      <td>a457</td>\n",
       "      <td>0</td>\n",
       "      <td>45.0</td>\n",
       "      <td>0</td>\n",
       "    </tr>\n",
       "    <tr>\n",
       "      <th>4</th>\n",
       "      <td>c819</td>\n",
       "      <td>0</td>\n",
       "      <td>45.0</td>\n",
       "      <td>0</td>\n",
       "    </tr>\n",
       "  </tbody>\n",
       "</table>\n",
       "</div>"
      ],
      "text/plain": [
       "  Mouse ID  Timepoint  Tumor Volume (mm3)  Metastatic Sites\n",
       "0     b128          0                45.0                 0\n",
       "1     f932          0                45.0                 0\n",
       "2     g107          0                45.0                 0\n",
       "3     a457          0                45.0                 0\n",
       "4     c819          0                45.0                 0"
      ]
     },
     "execution_count": 5,
     "metadata": {},
     "output_type": "execute_result"
    }
   ],
   "source": [
    "study_results.head()"
   ]
  },
  {
   "cell_type": "code",
   "execution_count": 6,
   "metadata": {},
   "outputs": [
    {
     "data": {
      "text/html": [
       "<div>\n",
       "<style scoped>\n",
       "    .dataframe tbody tr th:only-of-type {\n",
       "        vertical-align: middle;\n",
       "    }\n",
       "\n",
       "    .dataframe tbody tr th {\n",
       "        vertical-align: top;\n",
       "    }\n",
       "\n",
       "    .dataframe thead th {\n",
       "        text-align: right;\n",
       "    }\n",
       "</style>\n",
       "<table border=\"1\" class=\"dataframe\">\n",
       "  <thead>\n",
       "    <tr style=\"text-align: right;\">\n",
       "      <th></th>\n",
       "      <th>Mouse ID</th>\n",
       "      <th>Drug Regimen</th>\n",
       "      <th>Sex</th>\n",
       "      <th>Age_months</th>\n",
       "      <th>Weight (g)</th>\n",
       "      <th>Timepoint</th>\n",
       "      <th>Tumor Volume (mm3)</th>\n",
       "      <th>Metastatic Sites</th>\n",
       "    </tr>\n",
       "  </thead>\n",
       "  <tbody>\n",
       "    <tr>\n",
       "      <th>0</th>\n",
       "      <td>k403</td>\n",
       "      <td>Ramicane</td>\n",
       "      <td>Male</td>\n",
       "      <td>21</td>\n",
       "      <td>16</td>\n",
       "      <td>0</td>\n",
       "      <td>45.000000</td>\n",
       "      <td>0</td>\n",
       "    </tr>\n",
       "    <tr>\n",
       "      <th>1</th>\n",
       "      <td>k403</td>\n",
       "      <td>Ramicane</td>\n",
       "      <td>Male</td>\n",
       "      <td>21</td>\n",
       "      <td>16</td>\n",
       "      <td>5</td>\n",
       "      <td>38.825898</td>\n",
       "      <td>0</td>\n",
       "    </tr>\n",
       "    <tr>\n",
       "      <th>2</th>\n",
       "      <td>k403</td>\n",
       "      <td>Ramicane</td>\n",
       "      <td>Male</td>\n",
       "      <td>21</td>\n",
       "      <td>16</td>\n",
       "      <td>10</td>\n",
       "      <td>35.014271</td>\n",
       "      <td>1</td>\n",
       "    </tr>\n",
       "    <tr>\n",
       "      <th>3</th>\n",
       "      <td>k403</td>\n",
       "      <td>Ramicane</td>\n",
       "      <td>Male</td>\n",
       "      <td>21</td>\n",
       "      <td>16</td>\n",
       "      <td>15</td>\n",
       "      <td>34.223992</td>\n",
       "      <td>1</td>\n",
       "    </tr>\n",
       "    <tr>\n",
       "      <th>4</th>\n",
       "      <td>k403</td>\n",
       "      <td>Ramicane</td>\n",
       "      <td>Male</td>\n",
       "      <td>21</td>\n",
       "      <td>16</td>\n",
       "      <td>20</td>\n",
       "      <td>32.997729</td>\n",
       "      <td>1</td>\n",
       "    </tr>\n",
       "  </tbody>\n",
       "</table>\n",
       "</div>"
      ],
      "text/plain": [
       "  Mouse ID Drug Regimen   Sex  Age_months  Weight (g)  Timepoint  \\\n",
       "0     k403     Ramicane  Male          21          16          0   \n",
       "1     k403     Ramicane  Male          21          16          5   \n",
       "2     k403     Ramicane  Male          21          16         10   \n",
       "3     k403     Ramicane  Male          21          16         15   \n",
       "4     k403     Ramicane  Male          21          16         20   \n",
       "\n",
       "   Tumor Volume (mm3)  Metastatic Sites  \n",
       "0           45.000000                 0  \n",
       "1           38.825898                 0  \n",
       "2           35.014271                 1  \n",
       "3           34.223992                 1  \n",
       "4           32.997729                 1  "
      ]
     },
     "execution_count": 6,
     "metadata": {},
     "output_type": "execute_result"
    }
   ],
   "source": [
    "# Combine the data into a single dataset\n",
    "merged_df = pd.merge(mouse_metadata, study_results, on= 'Mouse ID')\n",
    "merged_df.head()"
   ]
  },
  {
   "cell_type": "markdown",
   "metadata": {},
   "source": [
    "## Summary statistics"
   ]
  },
  {
   "cell_type": "code",
   "execution_count": 7,
   "metadata": {},
   "outputs": [
    {
     "data": {
      "text/html": [
       "<div>\n",
       "<style scoped>\n",
       "    .dataframe tbody tr th:only-of-type {\n",
       "        vertical-align: middle;\n",
       "    }\n",
       "\n",
       "    .dataframe tbody tr th {\n",
       "        vertical-align: top;\n",
       "    }\n",
       "\n",
       "    .dataframe thead th {\n",
       "        text-align: right;\n",
       "    }\n",
       "</style>\n",
       "<table border=\"1\" class=\"dataframe\">\n",
       "  <thead>\n",
       "    <tr style=\"text-align: right;\">\n",
       "      <th></th>\n",
       "      <th>Mean</th>\n",
       "      <th>Median</th>\n",
       "      <th>Variance</th>\n",
       "      <th>Standard Deviation</th>\n",
       "      <th>SEM</th>\n",
       "    </tr>\n",
       "    <tr>\n",
       "      <th>Drug Regimen</th>\n",
       "      <th></th>\n",
       "      <th></th>\n",
       "      <th></th>\n",
       "      <th></th>\n",
       "      <th></th>\n",
       "    </tr>\n",
       "  </thead>\n",
       "  <tbody>\n",
       "    <tr>\n",
       "      <th>Capomulin</th>\n",
       "      <td>40.68</td>\n",
       "      <td>41.56</td>\n",
       "      <td>24.95</td>\n",
       "      <td>4.99</td>\n",
       "      <td>0.33</td>\n",
       "    </tr>\n",
       "    <tr>\n",
       "      <th>Ceftamin</th>\n",
       "      <td>52.59</td>\n",
       "      <td>51.78</td>\n",
       "      <td>39.29</td>\n",
       "      <td>6.27</td>\n",
       "      <td>0.47</td>\n",
       "    </tr>\n",
       "    <tr>\n",
       "      <th>Infubinol</th>\n",
       "      <td>52.88</td>\n",
       "      <td>51.82</td>\n",
       "      <td>43.13</td>\n",
       "      <td>6.57</td>\n",
       "      <td>0.49</td>\n",
       "    </tr>\n",
       "    <tr>\n",
       "      <th>Ketapril</th>\n",
       "      <td>55.24</td>\n",
       "      <td>53.70</td>\n",
       "      <td>68.55</td>\n",
       "      <td>8.28</td>\n",
       "      <td>0.60</td>\n",
       "    </tr>\n",
       "    <tr>\n",
       "      <th>Naftisol</th>\n",
       "      <td>54.33</td>\n",
       "      <td>52.51</td>\n",
       "      <td>66.17</td>\n",
       "      <td>8.13</td>\n",
       "      <td>0.60</td>\n",
       "    </tr>\n",
       "    <tr>\n",
       "      <th>Placebo</th>\n",
       "      <td>54.03</td>\n",
       "      <td>52.29</td>\n",
       "      <td>61.17</td>\n",
       "      <td>7.82</td>\n",
       "      <td>0.58</td>\n",
       "    </tr>\n",
       "    <tr>\n",
       "      <th>Propriva</th>\n",
       "      <td>52.32</td>\n",
       "      <td>50.85</td>\n",
       "      <td>42.35</td>\n",
       "      <td>6.51</td>\n",
       "      <td>0.51</td>\n",
       "    </tr>\n",
       "    <tr>\n",
       "      <th>Ramicane</th>\n",
       "      <td>40.22</td>\n",
       "      <td>40.67</td>\n",
       "      <td>23.49</td>\n",
       "      <td>4.85</td>\n",
       "      <td>0.32</td>\n",
       "    </tr>\n",
       "    <tr>\n",
       "      <th>Stelasyn</th>\n",
       "      <td>54.23</td>\n",
       "      <td>52.43</td>\n",
       "      <td>59.45</td>\n",
       "      <td>7.71</td>\n",
       "      <td>0.57</td>\n",
       "    </tr>\n",
       "    <tr>\n",
       "      <th>Zoniferol</th>\n",
       "      <td>53.24</td>\n",
       "      <td>51.82</td>\n",
       "      <td>48.53</td>\n",
       "      <td>6.97</td>\n",
       "      <td>0.52</td>\n",
       "    </tr>\n",
       "  </tbody>\n",
       "</table>\n",
       "</div>"
      ],
      "text/plain": [
       "               Mean  Median  Variance  Standard Deviation   SEM\n",
       "Drug Regimen                                                   \n",
       "Capomulin     40.68   41.56     24.95                4.99  0.33\n",
       "Ceftamin      52.59   51.78     39.29                6.27  0.47\n",
       "Infubinol     52.88   51.82     43.13                6.57  0.49\n",
       "Ketapril      55.24   53.70     68.55                8.28  0.60\n",
       "Naftisol      54.33   52.51     66.17                8.13  0.60\n",
       "Placebo       54.03   52.29     61.17                7.82  0.58\n",
       "Propriva      52.32   50.85     42.35                6.51  0.51\n",
       "Ramicane      40.22   40.67     23.49                4.85  0.32\n",
       "Stelasyn      54.23   52.43     59.45                7.71  0.57\n",
       "Zoniferol     53.24   51.82     48.53                6.97  0.52"
      ]
     },
     "execution_count": 7,
     "metadata": {},
     "output_type": "execute_result"
    }
   ],
   "source": [
    "# Generating the summary DF with 2 columns\n",
    "summary = merged_df [['Drug Regimen', 'Tumor Volume (mm3)']]\n",
    "\n",
    "# Grouping the DataFrame by 'Drug Regimen'\n",
    "grouped_df = summary.groupby('Drug Regimen')\n",
    "\n",
    "\n",
    "tumor_volume = grouped_df['Tumor Volume (mm3)']\n",
    "\n",
    "# Calculating mean, median, variance, standard deviation, and SEM of the tumor volume for each regimen\n",
    "mean = round(tumor_volume.mean(),2)\n",
    "median = round(tumor_volume.median(),2)\n",
    "variance = round(tumor_volume.var(),2)\n",
    "standard_deviation = round(tumor_volume.std(),2)\n",
    "sem = round(tumor_volume.sem(),2)\n",
    "\n",
    "# Generating the Summary DataFrame\n",
    "summary_df = pd.DataFrame({\"Mean\": mean,\n",
    "                          \"Median\": median,\n",
    "                          \"Variance\": variance,\n",
    "                          \"Standard Deviation\": standard_deviation,\n",
    "                          \"SEM\": sem})\n",
    "summary_df"
   ]
  },
  {
   "cell_type": "markdown",
   "metadata": {},
   "source": [
    "## Bar plots"
   ]
  },
  {
   "cell_type": "code",
   "execution_count": 8,
   "metadata": {},
   "outputs": [
    {
     "data": {
      "image/png": "[encoded data removed]",
      "text/plain": [
       "<Figure size 432x288 with 1 Axes>"
      ]
     },
     "metadata": {
      "needs_background": "light"
     },
     "output_type": "display_data"
    }
   ],
   "source": [
    "# Generating the Y-Axis \n",
    "regimen_count = tumor_volume.count()\n",
    "colors = ['cyan','violet']\n",
    "\n",
    "# Generate a bar plot showing number of data points for each treatment regimen using pandas\n",
    "bar_plot_pandas = regimen_count.plot(kind='bar', title =\"Number of Data for Each Treatment Regimen\", alpha = 0.75, color = colors, align= 'center')\n",
    "\n",
    "# Labeling X and Y axis\n",
    "bar_plot_pandas.set_xlabel(\"Drug Regimen\")\n",
    "bar_plot_pandas.set_ylabel(\"Number of Treatments\")\n",
    "\n",
    "plt.tight_layout()\n",
    "plt.savefig('plots/bar_plot_pandas.png')\n",
    "plt.show()"
   ]
  },
  {
   "cell_type": "code",
   "execution_count": 9,
   "metadata": {},
   "outputs": [
    {
     "data": {
      "image/png": "[encoded data removed]",
      "text/plain": [
       "<Figure size 432x288 with 1 Axes>"
      ]
     },
     "metadata": {
      "needs_background": "light"
     },
     "output_type": "display_data"
    }
   ],
   "source": [
    "# Generating the X-Axis \n",
    "drug_regimen = merged_df['Drug Regimen'].unique()\n",
    "x_axis = np.arange(0, len(drug_regimen), 1)\n",
    "\n",
    "# Generate a bar plot showing number of data points for each treatment regimen using pyplot\n",
    "color2 = ['gold', 'navy']\n",
    "plt.bar(x_axis,regimen_count, color = color2, align= 'center')\n",
    "plt.xticks(x_axis, drug_regimen, rotation = 45)\n",
    "\n",
    "# Labeling x_axis , y_axis & Title\n",
    "plt.title('Number of Data for Each Treatment Regimen')\n",
    "plt.xlabel(\"Drug Regimen\")\n",
    "plt.ylabel(\"Number of Treatments\")\n",
    "\n",
    "# Setting Limits for x_axis and y_axis\n",
    "plt.xlim(-1, len(x_axis))\n",
    "plt.ylim(0, max(regimen_count)+10)\n",
    "\n",
    "plt.tight_layout()\n",
    "plt.savefig('plots/bar_plot_pyplot.png')\n",
    "plt.show()"
   ]
  },
  {
   "cell_type": "markdown",
   "metadata": {},
   "source": [
    "## Pie plots"
   ]
  },
  {
   "cell_type": "code",
   "execution_count": 10,
   "metadata": {},
   "outputs": [
    {
     "data": {
      "image/png": "[encoded data removed]",
      "text/plain": [
       "<Figure size 432x288 with 1 Axes>"
      ]
     },
     "metadata": {},
     "output_type": "display_data"
    }
   ],
   "source": [
    "# Creating Sex List and the counts\n",
    "sex_count = merged_df.groupby('Sex')['Sex'].count()\n",
    "sex = sex_count.keys()\n",
    "explode = (0,0.05)\n",
    "\n",
    "# Generating a pie plot showing the distribution of female versus male mice using pandas\n",
    "pie_plot_pandas = sex_count.plot(kind='pie', explode=explode, colors=colors, labels= sex, autopct= \"%1.1f%%\", shadow= True, startangle= 45 )\n",
    "\n",
    "# setting the title\n",
    "pie_plot_pandas.set_title('Distribution of Female versus Male Mice')\n",
    "\n",
    "plt.axis(\"equal\")\n",
    "\n",
    "plt.savefig('plots/pie_plot_pandas.png')\n",
    "plt.show()\n"
   ]
  },
  {
   "cell_type": "code",
   "execution_count": 11,
   "metadata": {},
   "outputs": [
    {
     "data": {
      "image/png": "[encoded data removed]",
      "text/plain": [
       "<Figure size 432x288 with 1 Axes>"
      ]
     },
     "metadata": {},
     "output_type": "display_data"
    }
   ],
   "source": [
    "# Generating a pie plot showing the distribution of female versus male mice using pyplot\n",
    "plt.pie(sex_count, explode=explode, colors=color2, labels= sex, autopct= \"%1.2f%%\", shadow= False, startangle= 90)\n",
    "\n",
    "# setting the title\n",
    "plt.title('Distribution of Female versus Male Mice')\n",
    "\n",
    "plt.axis(\"equal\")\n",
    "\n",
    "plt.savefig('plots/pie_plot_pyplot.png')\n",
    "plt.show()"
   ]
  },
  {
   "cell_type": "markdown",
   "metadata": {},
   "source": [
    "## Quartiles, outliers and boxplots"
   ]
  },
  {
   "cell_type": "code",
   "execution_count": 12,
   "metadata": {},
   "outputs": [
    {
     "data": {
      "text/html": [
       "<div>\n",
       "<style scoped>\n",
       "    .dataframe tbody tr th:only-of-type {\n",
       "        vertical-align: middle;\n",
       "    }\n",
       "\n",
       "    .dataframe tbody tr th {\n",
       "        vertical-align: top;\n",
       "    }\n",
       "\n",
       "    .dataframe thead th {\n",
       "        text-align: right;\n",
       "    }\n",
       "</style>\n",
       "<table border=\"1\" class=\"dataframe\">\n",
       "  <thead>\n",
       "    <tr style=\"text-align: right;\">\n",
       "      <th></th>\n",
       "      <th>Drug Regimen</th>\n",
       "      <th>Tumor Volume (mm3)</th>\n",
       "    </tr>\n",
       "  </thead>\n",
       "  <tbody>\n",
       "    <tr>\n",
       "      <th>0</th>\n",
       "      <td>Ramicane</td>\n",
       "      <td>22.050126</td>\n",
       "    </tr>\n",
       "    <tr>\n",
       "      <th>1</th>\n",
       "      <td>Capomulin</td>\n",
       "      <td>23.343598</td>\n",
       "    </tr>\n",
       "    <tr>\n",
       "      <th>2</th>\n",
       "      <td>Infubinol</td>\n",
       "      <td>36.321346</td>\n",
       "    </tr>\n",
       "    <tr>\n",
       "      <th>3</th>\n",
       "      <td>Ceftamin</td>\n",
       "      <td>45.000000</td>\n",
       "    </tr>\n",
       "  </tbody>\n",
       "</table>\n",
       "</div>"
      ],
      "text/plain": [
       "  Drug Regimen  Tumor Volume (mm3)\n",
       "0     Ramicane           22.050126\n",
       "1    Capomulin           23.343598\n",
       "2    Infubinol           36.321346\n",
       "3     Ceftamin           45.000000"
      ]
     },
     "execution_count": 12,
     "metadata": {},
     "output_type": "execute_result"
    }
   ],
   "source": [
    "# Creating a DataFrame including four of the most promising treatment regimens\n",
    "mouse_group = merged_df.groupby('Drug Regimen')['Tumor Volume (mm3)'].min().sort_values()\n",
    "promising_treatments = mouse_group.iloc[0:4,].to_frame().reset_index()\n",
    "\n",
    "promising_treatments"
   ]
  },
  {
   "cell_type": "code",
   "execution_count": 13,
   "metadata": {},
   "outputs": [
    {
     "data": {
      "text/html": [
       "<div>\n",
       "<style scoped>\n",
       "    .dataframe tbody tr th:only-of-type {\n",
       "        vertical-align: middle;\n",
       "    }\n",
       "\n",
       "    .dataframe tbody tr th {\n",
       "        vertical-align: top;\n",
       "    }\n",
       "\n",
       "    .dataframe thead th {\n",
       "        text-align: right;\n",
       "    }\n",
       "</style>\n",
       "<table border=\"1\" class=\"dataframe\">\n",
       "  <thead>\n",
       "    <tr style=\"text-align: right;\">\n",
       "      <th></th>\n",
       "      <th>Mouse ID</th>\n",
       "      <th>Drug Regimen</th>\n",
       "      <th>Sex</th>\n",
       "      <th>Age_months</th>\n",
       "      <th>Weight (g)</th>\n",
       "      <th>Timepoint</th>\n",
       "      <th>Tumor Volume (mm3)</th>\n",
       "      <th>Metastatic Sites</th>\n",
       "    </tr>\n",
       "  </thead>\n",
       "  <tbody>\n",
       "    <tr>\n",
       "      <th>1344</th>\n",
       "      <td>p136</td>\n",
       "      <td>Zoniferol</td>\n",
       "      <td>Female</td>\n",
       "      <td>5</td>\n",
       "      <td>28</td>\n",
       "      <td>45</td>\n",
       "      <td>63.488697</td>\n",
       "      <td>2</td>\n",
       "    </tr>\n",
       "    <tr>\n",
       "      <th>667</th>\n",
       "      <td>c302</td>\n",
       "      <td>Zoniferol</td>\n",
       "      <td>Female</td>\n",
       "      <td>10</td>\n",
       "      <td>29</td>\n",
       "      <td>45</td>\n",
       "      <td>64.575222</td>\n",
       "      <td>4</td>\n",
       "    </tr>\n",
       "    <tr>\n",
       "      <th>1416</th>\n",
       "      <td>q511</td>\n",
       "      <td>Zoniferol</td>\n",
       "      <td>Female</td>\n",
       "      <td>2</td>\n",
       "      <td>28</td>\n",
       "      <td>45</td>\n",
       "      <td>68.611061</td>\n",
       "      <td>3</td>\n",
       "    </tr>\n",
       "    <tr>\n",
       "      <th>1325</th>\n",
       "      <td>o926</td>\n",
       "      <td>Zoniferol</td>\n",
       "      <td>Male</td>\n",
       "      <td>15</td>\n",
       "      <td>29</td>\n",
       "      <td>45</td>\n",
       "      <td>62.327966</td>\n",
       "      <td>4</td>\n",
       "    </tr>\n",
       "    <tr>\n",
       "      <th>510</th>\n",
       "      <td>a401</td>\n",
       "      <td>Zoniferol</td>\n",
       "      <td>Female</td>\n",
       "      <td>8</td>\n",
       "      <td>25</td>\n",
       "      <td>45</td>\n",
       "      <td>66.794156</td>\n",
       "      <td>4</td>\n",
       "    </tr>\n",
       "  </tbody>\n",
       "</table>\n",
       "</div>"
      ],
      "text/plain": [
       "     Mouse ID Drug Regimen     Sex  Age_months  Weight (g)  Timepoint  \\\n",
       "1344     p136    Zoniferol  Female           5          28         45   \n",
       "667      c302    Zoniferol  Female          10          29         45   \n",
       "1416     q511    Zoniferol  Female           2          28         45   \n",
       "1325     o926    Zoniferol    Male          15          29         45   \n",
       "510      a401    Zoniferol  Female           8          25         45   \n",
       "\n",
       "      Tumor Volume (mm3)  Metastatic Sites  \n",
       "1344           63.488697                 2  \n",
       "667            64.575222                 4  \n",
       "1416           68.611061                 3  \n",
       "1325           62.327966                 4  \n",
       "510            66.794156                 4  "
      ]
     },
     "execution_count": 13,
     "metadata": {},
     "output_type": "execute_result"
    }
   ],
   "source": [
    "# Creating a DataFrame of all Max Timepoint for finding Final Tumor Volume\n",
    "top_drugs=promising_treatments['Drug Regimen']\n",
    "max_timepoint= merged_df.loc[merged_df.Timepoint == 45].sort_values('Drug Regimen', ascending= False)\n",
    "max_timepoint.head()"
   ]
  },
  {
   "cell_type": "markdown",
   "metadata": {},
   "source": [
    "# Calculation of the final tumor volume of each mouse across four of the most promising treatment regimens\n",
    "\n",
    "## 1. Ramicane Quartile and IQR Calculations "
   ]
  },
  {
   "cell_type": "code",
   "execution_count": 14,
   "metadata": {},
   "outputs": [
    {
     "name": "stdout",
     "output_type": "stream",
     "text": [
      "The lower quartile of Tumor Volume by Ramicane is: 30.981175224999998\n",
      "The upper quartile of Tumor Volume by Ramicane is: 38.508305307499995\n",
      "The interquartile range of Tumor Volume by Ramicane is: 7.527130082499998\n",
      "The the median of Tumor Volume by Ramicane is: 34.848627300000004 \n",
      "Values below 19.690480101250003 could be outliers.\n",
      "Values above 49.79900043124999 could be outliers.\n"
     ]
    }
   ],
   "source": [
    "# Creating a dataframe of Ramicane Treatment\n",
    "ramicane= max_timepoint.loc[ max_timepoint['Drug Regimen'] == top_drugs[0]]\n",
    "\n",
    "# Calculating for Quartiles\n",
    "ramicane_tomur_volume = ramicane['Tumor Volume (mm3)']\n",
    "quartiles = ramicane_tomur_volume.quantile([.25,.5,.75])\n",
    "lowerq = quartiles[0.25]\n",
    "upperq = quartiles[0.75]\n",
    "\n",
    "# Calculating for IQR\n",
    "iqr = upperq-lowerq\n",
    "\n",
    "print(f\"The lower quartile of Tumor Volume by Ramicane is: {lowerq}\")\n",
    "print(f\"The upper quartile of Tumor Volume by Ramicane is: {upperq}\")\n",
    "print(f\"The interquartile range of Tumor Volume by Ramicane is: {iqr}\")\n",
    "print(f\"The the median of Tumor Volume by Ramicane is: {quartiles[0.5]} \")\n",
    "\n",
    "# Potential Outliers\n",
    "lower_bound = lowerq - (1.5*iqr)\n",
    "upper_bound = upperq + (1.5*iqr)\n",
    "print(f\"Values below {lower_bound} could be outliers.\")\n",
    "print(f\"Values above {upper_bound} could be outliers.\")\n",
    "\n",
    "remicane_report = ['Ramicane', lowerq, upperq, iqr, quartiles[0.5], lower_bound, upper_bound]"
   ]
  },
  {
   "cell_type": "markdown",
   "metadata": {},
   "source": [
    "## 2. Capomulin Quartile and IQR Calculations "
   ]
  },
  {
   "cell_type": "code",
   "execution_count": 15,
   "metadata": {},
   "outputs": [
    {
     "name": "stdout",
     "output_type": "stream",
     "text": [
      "The lower quartile of Tumor Volume by Capomulin is: 32.37735684\n",
      "The upper quartile of Tumor Volume by Capomulin is: 40.1592203\n",
      "The interquartile range of Tumor Volume by Capomulin is: 7.781863460000004\n",
      "The the median of Tumor Volume by Capomulin is: 37.31184577 \n",
      "Values below 20.70456164999999 could be outliers.\n",
      "Values above 51.83201549 could be outliers.\n"
     ]
    }
   ],
   "source": [
    "# Creating a dataframe of Capomulin Treatment\n",
    "capomulin= max_timepoint.loc[ max_timepoint['Drug Regimen'] == top_drugs[1]]\n",
    "\n",
    "# Calculating for Quartiles\n",
    "capomulin_tomur_volume = capomulin['Tumor Volume (mm3)']\n",
    "quartiles = capomulin_tomur_volume.quantile([.25,.5,.75])\n",
    "lowerq = quartiles[0.25]\n",
    "upperq = quartiles[0.75]\n",
    "\n",
    "# Calculating for IQR\n",
    "iqr = upperq-lowerq\n",
    "\n",
    "print(f\"The lower quartile of Tumor Volume by Capomulin is: {lowerq}\")\n",
    "print(f\"The upper quartile of Tumor Volume by Capomulin is: {upperq}\")\n",
    "print(f\"The interquartile range of Tumor Volume by Capomulin is: {iqr}\")\n",
    "print(f\"The the median of Tumor Volume by Capomulin is: {quartiles[0.5]} \")\n",
    "\n",
    "# Potential Outliers\n",
    "lower_bound = lowerq - (1.5*iqr)\n",
    "upper_bound = upperq + (1.5*iqr)\n",
    "print(f\"Values below {lower_bound} could be outliers.\")\n",
    "print(f\"Values above {upper_bound} could be outliers.\")\n",
    "\n",
    "capomulin_report = ['Capomulin', lowerq, upperq, iqr, quartiles[0.5], lower_bound, upper_bound]"
   ]
  },
  {
   "cell_type": "markdown",
   "metadata": {},
   "source": [
    "## 3. Infubinol Quartile and IQR Calculations "
   ]
  },
  {
   "cell_type": "code",
   "execution_count": 16,
   "metadata": {},
   "outputs": [
    {
     "name": "stdout",
     "output_type": "stream",
     "text": [
      "The lower quartile of Tumor Volume by Infubinol is: 62.75445141\n",
      "The upper quartile of Tumor Volume by Infubinol is: 67.68556862\n",
      "The interquartile range of Tumor Volume by Infubinol is: 4.9311172099999965\n",
      "The the median of Tumor Volume by Infubinol is: 66.08306589 \n",
      "Values below 55.35777559500001 could be outliers.\n",
      "Values above 75.08224443499999 could be outliers.\n"
     ]
    }
   ],
   "source": [
    "# Creating a dataframe of Infubinol Treatment\n",
    "infubinol= max_timepoint.loc[ max_timepoint['Drug Regimen'] == top_drugs[2]]\n",
    "\n",
    "# Calculating for Quartiles\n",
    "infubinol_tomur_volume = infubinol['Tumor Volume (mm3)']\n",
    "quartiles = infubinol_tomur_volume.quantile([.25,.5,.75])\n",
    "lowerq = quartiles[0.25]\n",
    "upperq = quartiles[0.75]\n",
    "\n",
    "# Calculating for IQR\n",
    "iqr = upperq-lowerq\n",
    "\n",
    "print(f\"The lower quartile of Tumor Volume by Infubinol is: {lowerq}\")\n",
    "print(f\"The upper quartile of Tumor Volume by Infubinol is: {upperq}\")\n",
    "print(f\"The interquartile range of Tumor Volume by Infubinol is: {iqr}\")\n",
    "print(f\"The the median of Tumor Volume by Infubinol is: {quartiles[0.5]} \")\n",
    "\n",
    "# Potential Outliers\n",
    "lower_bound = lowerq - (1.5*iqr)\n",
    "upper_bound = upperq + (1.5*iqr)\n",
    "print(f\"Values below {lower_bound} could be outliers.\")\n",
    "print(f\"Values above {upper_bound} could be outliers.\")\n",
    "\n",
    "infubinol_report = ['Infubinol', lowerq, upperq, iqr, quartiles[0.5], lower_bound, upper_bound]"
   ]
  },
  {
   "cell_type": "markdown",
   "metadata": {},
   "source": [
    "## 4. Ceftamin Quartile and IQR Calculations "
   ]
  },
  {
   "cell_type": "code",
   "execution_count": 17,
   "metadata": {},
   "outputs": [
    {
     "name": "stdout",
     "output_type": "stream",
     "text": [
      "The lower quartile of Tumor Volume by Ceftamin is: 61.43389223\n",
      "The upper quartile of Tumor Volume by Ceftamin is: 67.52748237\n",
      "The interquartile range of Tumor Volume by Ceftamin is: 6.093590140000003\n",
      "The the median of Tumor Volume by Ceftamin is: 64.29983003 \n",
      "Values below 52.29350701999999 could be outliers.\n",
      "Values above 76.66786758 could be outliers.\n"
     ]
    }
   ],
   "source": [
    "# Creating a dataframe of Ceftamin Treatment\n",
    "ceftamin= max_timepoint.loc[ max_timepoint['Drug Regimen'] == top_drugs[3]]\n",
    "\n",
    "# Calculating for Quartiles\n",
    "ceftamin_tomur_volume = ceftamin['Tumor Volume (mm3)']\n",
    "quartiles = ceftamin_tomur_volume.quantile([.25,.5,.75])\n",
    "lowerq = quartiles[0.25]\n",
    "upperq = quartiles[0.75]\n",
    "\n",
    "# Calculating for IQR\n",
    "iqr = upperq-lowerq\n",
    "\n",
    "print(f\"The lower quartile of Tumor Volume by Ceftamin is: {lowerq}\")\n",
    "print(f\"The upper quartile of Tumor Volume by Ceftamin is: {upperq}\")\n",
    "print(f\"The interquartile range of Tumor Volume by Ceftamin is: {iqr}\")\n",
    "print(f\"The the median of Tumor Volume by Ceftamin is: {quartiles[0.5]} \")\n",
    "\n",
    "# Potential Outliers\n",
    "lower_bound = lowerq - (1.5*iqr)\n",
    "upper_bound = upperq + (1.5*iqr)\n",
    "print(f\"Values below {lower_bound} could be outliers.\")\n",
    "print(f\"Values above {upper_bound} could be outliers.\")\n",
    "\n",
    "ceftamin_report = ['Ceftamin', lowerq, upperq, iqr, quartiles[0.5], lower_bound, upper_bound]"
   ]
  },
  {
   "cell_type": "markdown",
   "metadata": {},
   "source": [
    "## Final Report of all calculations in one glance"
   ]
  },
  {
   "cell_type": "code",
   "execution_count": 18,
   "metadata": {},
   "outputs": [
    {
     "data": {
      "text/html": [
       "<div>\n",
       "<style scoped>\n",
       "    .dataframe tbody tr th:only-of-type {\n",
       "        vertical-align: middle;\n",
       "    }\n",
       "\n",
       "    .dataframe tbody tr th {\n",
       "        vertical-align: top;\n",
       "    }\n",
       "\n",
       "    .dataframe thead th {\n",
       "        text-align: right;\n",
       "    }\n",
       "</style>\n",
       "<table border=\"1\" class=\"dataframe\">\n",
       "  <thead>\n",
       "    <tr style=\"text-align: right;\">\n",
       "      <th></th>\n",
       "      <th>Lower Quartile</th>\n",
       "      <th>Upper Quartile</th>\n",
       "      <th>Interquartile Range</th>\n",
       "      <th>Median</th>\n",
       "      <th>Lower Bound</th>\n",
       "      <th>Upper Bound</th>\n",
       "    </tr>\n",
       "    <tr>\n",
       "      <th>Drug Regimen</th>\n",
       "      <th></th>\n",
       "      <th></th>\n",
       "      <th></th>\n",
       "      <th></th>\n",
       "      <th></th>\n",
       "      <th></th>\n",
       "    </tr>\n",
       "  </thead>\n",
       "  <tbody>\n",
       "    <tr>\n",
       "      <th>Ramicane</th>\n",
       "      <td>30.98</td>\n",
       "      <td>38.51</td>\n",
       "      <td>7.53</td>\n",
       "      <td>34.85</td>\n",
       "      <td>19.69</td>\n",
       "      <td>49.80</td>\n",
       "    </tr>\n",
       "    <tr>\n",
       "      <th>Capomulin</th>\n",
       "      <td>32.38</td>\n",
       "      <td>40.16</td>\n",
       "      <td>7.78</td>\n",
       "      <td>37.31</td>\n",
       "      <td>20.70</td>\n",
       "      <td>51.83</td>\n",
       "    </tr>\n",
       "    <tr>\n",
       "      <th>Infubinol</th>\n",
       "      <td>62.75</td>\n",
       "      <td>67.69</td>\n",
       "      <td>4.93</td>\n",
       "      <td>66.08</td>\n",
       "      <td>55.36</td>\n",
       "      <td>75.08</td>\n",
       "    </tr>\n",
       "    <tr>\n",
       "      <th>Ceftamin</th>\n",
       "      <td>61.43</td>\n",
       "      <td>67.53</td>\n",
       "      <td>6.09</td>\n",
       "      <td>64.30</td>\n",
       "      <td>52.29</td>\n",
       "      <td>76.67</td>\n",
       "    </tr>\n",
       "  </tbody>\n",
       "</table>\n",
       "</div>"
      ],
      "text/plain": [
       "              Lower Quartile  Upper Quartile  Interquartile Range  Median  \\\n",
       "Drug Regimen                                                                \n",
       "Ramicane               30.98           38.51                 7.53   34.85   \n",
       "Capomulin              32.38           40.16                 7.78   37.31   \n",
       "Infubinol              62.75           67.69                 4.93   66.08   \n",
       "Ceftamin               61.43           67.53                 6.09   64.30   \n",
       "\n",
       "              Lower Bound  Upper Bound  \n",
       "Drug Regimen                            \n",
       "Ramicane            19.69        49.80  \n",
       "Capomulin           20.70        51.83  \n",
       "Infubinol           55.36        75.08  \n",
       "Ceftamin            52.29        76.67  "
      ]
     },
     "execution_count": 18,
     "metadata": {},
     "output_type": "execute_result"
    }
   ],
   "source": [
    "columns=['Drug Regimen', 'Lower Quartile', 'Upper Quartile', 'Interquartile Range','Median','Lower Bound', 'Upper Bound']\n",
    "\n",
    "#Final report in one glance\n",
    "final_report = (pd.DataFrame([remicane_report, capomulin_report,infubinol_report,ceftamin_report], columns= columns).set_index('Drug Regimen')).round(decimals=2)\n",
    "\n",
    "final_report"
   ]
  },
  {
   "cell_type": "code",
   "execution_count": 19,
   "metadata": {},
   "outputs": [
    {
     "data": {
      "image/png": "[encoded data removed]",
      "text/plain": [
       "<Figure size 432x288 with 1 Axes>"
      ]
     },
     "metadata": {
      "needs_background": "light"
     },
     "output_type": "display_data"
    }
   ],
   "source": [
    "fig1, ax1 = plt.subplots()\n",
    "\n",
    "# Setting the colors for Outliners, Whiskers and Boxes\n",
    "teal_diamond = dict(markerfacecolor='teal', marker='d')\n",
    "whisker_color=dict(color='red')\n",
    "boxprops=dict(color='cyan')\n",
    "\n",
    "# Creating the boxplot of the final tumor volume of each mouse across four regimens of interest\n",
    "ax1.boxplot([ramicane_tomur_volume,\n",
    "             capomulin_tomur_volume,\n",
    "             infubinol_tomur_volume,\n",
    "             ceftamin_tomur_volume]\n",
    "            ,labels=['Ramicane', 'Capomulin','Infubinol','Ceftamin'],\n",
    "            showmeans = True, flierprops=teal_diamond, showfliers=True, whiskerprops=whisker_color, boxprops=boxprops)\n",
    "\n",
    "# Setting the title and labels\n",
    "ax1.set_title('Final Tumor Volume \\n for 4 Promising Treatment Regimen')\n",
    "plt.xlabel('Most Promising Drug Regimen')\n",
    "plt.ylabel('Final Tumor Volume (mm3)')\n",
    "\n",
    "plt.grid()\n",
    "plt.tight_layout()\n",
    "plt.savefig('plots/box_plot.png')\n",
    "plt.show()"
   ]
  },
  {
   "cell_type": "markdown",
   "metadata": {},
   "source": [
    "## Line and scatter plots"
   ]
  },
  {
   "cell_type": "code",
   "execution_count": 20,
   "metadata": {},
   "outputs": [
    {
     "data": {
      "image/png": "[encoded data removed]",
      "text/plain": [
       "<Figure size 432x288 with 1 Axes>"
      ]
     },
     "metadata": {
      "needs_background": "light"
     },
     "output_type": "display_data"
    }
   ],
   "source": [
    "# Creating a dataframe for Campomulin\n",
    "capomulin_df=merged_df.loc[merged_df['Drug Regimen'] == 'Capomulin'].sort_values('Mouse ID')\n",
    "\n",
    "# Selecting a random sample\n",
    "random_sample_mouse=list(capomulin_df['Mouse ID'].sample(1))\n",
    "\n",
    "sample_mouse= capomulin_df.loc[capomulin_df['Mouse ID'] == random_sample_mouse[0]].sort_values('Timepoint')\n",
    "\n",
    "# Defining X and Y axis\n",
    "x_axis= sample_mouse['Timepoint']\n",
    "y_axis= sample_mouse['Tumor Volume (mm3)']\n",
    "\n",
    "# Generate a line plot of time point versus tumor volume for a mouse treated with Capomulin\n",
    "line_handle, =plt.plot(x_axis, y_axis, marker='s', color='cyan', linewidth=1, label=\"Tumor Volume\")\n",
    "\n",
    "# Setting the title, xlabel and ylabel\n",
    "plt.title(f'Mouse with ID: {random_sample_mouse[0]} \\n Treated With Capomulin')\n",
    "plt.xlabel('Timepoint')\n",
    "plt.ylabel('Tumor Volume')\n",
    "\n",
    "# Showing the Sample ID on the plot\n",
    "plt.annotate(f\"Mouse ID: {random_sample_mouse[0]}\",(min(x_axis)+2,min(y_axis)+2),fontsize=15,color=\"violet\")\n",
    "\n",
    "# Showing the legend on the plot\n",
    "plt.legend(loc='best', fancybox= True)\n",
    "\n",
    "plt.grid()\n",
    "plt.tight_layout()\n",
    "plt.savefig(f'plots/line_plot_mouse_id_{random_sample_mouse[0]}.png')\n",
    "plt.show()"
   ]
  },
  {
   "cell_type": "code",
   "execution_count": 21,
   "metadata": {},
   "outputs": [
    {
     "data": {
      "image/png": "[encoded data removed]",
      "text/plain": [
       "<Figure size 432x288 with 1 Axes>"
      ]
     },
     "metadata": {
      "needs_background": "light"
     },
     "output_type": "display_data"
    }
   ],
   "source": [
    "# Grouping the Capomulin Dataframe by Mouse ID\n",
    "scatter_df=capomulin_df.groupby('Mouse ID')\n",
    "\n",
    "# Defining X and Y axis\n",
    "y_axis=scatter_df['Tumor Volume (mm3)'].mean()\n",
    "x_axis=scatter_df['Weight (g)'].mean()\n",
    "\n",
    "# Generate a scatter plot of mouse weight versus average tumor volume for the Capomulin regimen\n",
    "plt.scatter(x_axis, y_axis, marker='s', color='gold', edgecolors=\"navy\",  alpha=0.75, s=x_axis)\n",
    "\n",
    "# Setting Title, Xlabel and Ylabel\n",
    "plt.title('Mouse weight vs. average tumor volume \\n for the Capomulin treatment')\n",
    "plt.xlabel('Weight (g)')\n",
    "plt.ylabel('Average Tumor Volume')\n",
    "\n",
    "# Setting Limitation for X and Y axis\n",
    "plt.xlim(min(x_axis)-1, max(x_axis)+1)\n",
    "plt.ylim(min(y_axis)-1, max(y_axis)+1)\n",
    "\n",
    "plt.grid()\n",
    "plt.savefig('plots/plot_scatter.png')\n",
    "plt.show()"
   ]
  },
  {
   "cell_type": "code",
   "execution_count": 22,
   "metadata": {},
   "outputs": [
    {
     "name": "stdout",
     "output_type": "stream",
     "text": [
      "The correlation coefficient for mouse weight and average tumor volume for the Capomulin regimen is (0.84)\n",
      "The linear regression model for mouse weight and average tumor volume for the Capomulin regimen is (y = 0.95x + 21.55)\n"
     ]
    },
    {
     "data": {
      "image/png": "[encoded data removed]",
      "text/plain": [
       "<Figure size 432x288 with 2 Axes>"
      ]
     },
     "metadata": {
      "needs_background": "light"
     },
     "output_type": "display_data"
    }
   ],
   "source": [
    "# Calculation of the correlation coefficient for mouse weight and average tumor volume for the Capomulin regimen\n",
    "correlation = st.pearsonr(x_axis, y_axis)\n",
    "print(f\"The correlation coefficient for mouse weight and average tumor volume for the Capomulin regimen is ({round(correlation[0],2)})\")\n",
    "\n",
    "# Calculation of the linear regression model for mouse weight and average tumor volume for the Capomulin regimen\n",
    "(slope, intercept, rvalue, pvalue, stderr) = linregress(x_axis, y_axis)\n",
    "regress_values = x_axis * slope + intercept\n",
    "line_eq = \"y = \" + str(round(slope,2)) + \"x + \" + str(round(intercept,2))\n",
    "print(f\"The linear regression model for mouse weight and average tumor volume for the Capomulin regimen is ({line_eq})\")\n",
    "\n",
    "# Creating the Scatter Plot\n",
    "plt.scatter(x_axis,y_axis, facecolor = 'cyan', edgecolor = 'navy')\n",
    "\n",
    "# Creating the Line Plot\n",
    "plt.plot(x_axis,regress_values,\"violet\", linewidth = 2)\n",
    "\n",
    "# Setting Title, X and Y labels\n",
    "plt.title('Mouse weight vs. average\\n tumor volume for the Capomulin treatment')\n",
    "plt.xlabel('Weight (g)')\n",
    "plt.ylabel('Average Tumor Volume')\n",
    "\n",
    "# Printing the linear regression model on the plot\n",
    "plt.annotate(line_eq,(20,36),fontsize=14,color=\"navy\")\n",
    "\n",
    "# Setting Limitation for X and Y axis\n",
    "plt.xlim(min(x_axis)-1, max(x_axis)+1)\n",
    "plt.ylim(min(y_axis)-1, max(y_axis)+1)\n",
    "\n",
    "clb = plt.colorbar()\n",
    "plt.grid()\n",
    "plt.savefig('plots/scatter_plot & linear_regression.png')\n",
    "plt.show()"
   ]
  },
  {
   "cell_type": "code",
   "execution_count": null,
   "metadata": {},
   "outputs": [],
   "source": []
  }
 ],
 "metadata": {
  "anaconda-cloud": {},
  "kernelspec": {
   "display_name": "Python 3",
   "language": "python",
   "name": "python3"
  },
  "language_info": {
   "codemirror_mode": {
    "name": "ipython",
    "version": 3
   },
   "file_extension": ".py",
   "mimetype": "text/x-python",
   "name": "python",
   "nbconvert_exporter": "python",
   "pygments_lexer": "ipython3",
   "version": "3.7.6"
  }
 },
 "nbformat": 4,
 "nbformat_minor": 4
}
